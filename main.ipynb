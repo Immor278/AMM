{
 "cells": [
  {
   "cell_type": "code",
   "execution_count": 1,
   "id": "f4f20b6d",
   "metadata": {},
   "outputs": [],
   "source": [
    "from sklearn.feature_extraction.text import CountVectorizer, TfidfVectorizer\n",
    "import os\n",
    "from scipy.sparse import csr_matrix\n",
    "import csv\n",
    "import shutil\n",
    "import matplotlib\n",
    "import matplotlib.pyplot as plt\n",
    "import numpy as np\n",
    "from sklearn.metrics import accuracy_score\n",
    "from sklearn.model_selection import GridSearchCV\n",
    "from sklearn.model_selection import train_test_split\n",
    "from sklearn.svm import LinearSVC\n",
    "from joblib import dump, load\n",
    "import random\n",
    "from sklearn import metrics\n",
    "import pickle\n",
    "import lzma\n",
    "import lightgbm\n",
    "import numpy"
   ]
  },
  {
   "cell_type": "markdown",
   "id": "64730680",
   "metadata": {},
   "source": [
    "# model\n"
   ]
  },
  {
   "cell_type": "code",
   "execution_count": 2,
   "id": "c0bc3c6d",
   "metadata": {},
   "outputs": [],
   "source": [
    "with lzma.open('dataset/data.xz', 'rb') as file:\n",
    "    raw_data = file.read()\n",
    "    (x_train, x_test, y_train, y_test, feature_names) = pickle.loads(raw_data)"
   ]
  },
  {
   "cell_type": "code",
   "execution_count": 3,
   "id": "3dfdf6ae",
   "metadata": {},
   "outputs": [],
   "source": [
    "feature_vectorizer = CountVectorizer(input='filename', tokenizer=lambda xx: [item for item in xx.split(os.linesep) if item != \"\"], token_pattern=None,\n",
    "                                         binary=True, lowercase=False, vocabulary=feature_names)"
   ]
  },
  {
   "cell_type": "code",
   "execution_count": 4,
   "id": "e9ba0696",
   "metadata": {},
   "outputs": [],
   "source": [
    "lgbm_model = lightgbm.Booster(model_file='./dataset/drebin_lgbm.txt')"
   ]
  },
  {
   "cell_type": "code",
   "execution_count": 5,
   "id": "8f93f9fe",
   "metadata": {},
   "outputs": [
    {
     "name": "stdout",
     "output_type": "stream",
     "text": [
      "Test Set Accuracy = 0.963669391462307\n",
      "              precision    recall  f1-score   support\n",
      "\n",
      "     Malware       0.97      0.95      0.96      1585\n",
      "    Goodware       0.96      0.97      0.97      1718\n",
      "\n",
      "    accuracy                           0.96      3303\n",
      "   macro avg       0.96      0.96      0.96      3303\n",
      "weighted avg       0.96      0.96      0.96      3303\n",
      "\n"
     ]
    }
   ],
   "source": [
    "x_test_new = x_test.astype(float, \"safe\", True)\n",
    "y_pred = lgbm_model.predict(x_test_new)\n",
    "y_pred_nom = []\n",
    "for score in y_pred:\n",
    "    if score > 0.5:\n",
    "        y_pred_nom.append(1)\n",
    "    else:\n",
    "        y_pred_nom.append(0)\n",
    "accuracy = accuracy_score(y_test, y_pred_nom)\n",
    "# accuracy = accuracy_score(y_test, y_pred)\n",
    "print(\"Test Set Accuracy = {}\".format(accuracy))\n",
    "print(metrics.classification_report(y_test,\n",
    "                                    y_pred_nom, labels=[1, 0],\n",
    "                                    target_names=['Malware', 'Goodware']))"
   ]
  },
  {
   "cell_type": "markdown",
   "id": "8429fde5",
   "metadata": {},
   "source": [
    "# calculate AMM-based features"
   ]
  },
  {
   "cell_type": "code",
   "execution_count": 6,
   "id": "c96c2e03",
   "metadata": {},
   "outputs": [],
   "source": [
    "from amm_generator import AmmGenerator\n",
    "import json"
   ]
  },
  {
   "cell_type": "code",
   "execution_count": 7,
   "id": "ca8108f9",
   "metadata": {},
   "outputs": [],
   "source": [
    "with lzma.open('dataset/shap_samples_train.xz', 'rb') as file:\n",
    "    raw_data = file.read()\n",
    "    (x_samples, y_samples, lgbm_shap_values) = pickle.loads(raw_data)"
   ]
  },
  {
   "cell_type": "code",
   "execution_count": 8,
   "id": "9ce149ce",
   "metadata": {},
   "outputs": [],
   "source": [
    "shap_values = lgbm_shap_values[1]"
   ]
  },
  {
   "cell_type": "code",
   "execution_count": 9,
   "id": "b340ff08",
   "metadata": {},
   "outputs": [],
   "source": [
    "generator = AmmGenerator()\n",
    "result_lgbm = generator.AMM_feature_selection(x_samples, shap_values, feature_names, trigger_size=75)"
   ]
  },
  {
   "cell_type": "code",
   "execution_count": 10,
   "id": "5d7a4bed",
   "metadata": {},
   "outputs": [],
   "source": [
    "results = {key: int(result_lgbm[key]) for key in result_lgbm}"
   ]
  },
  {
   "cell_type": "code",
   "execution_count": 11,
   "id": "8b37f55b",
   "metadata": {},
   "outputs": [],
   "source": [
    "with open('amm_patch.json', 'w') as file:\n",
    "    json.dump(results, file)"
   ]
  },
  {
   "cell_type": "markdown",
   "id": "6f96658a",
   "metadata": {},
   "source": [
    "# statistics-based feature selection\n"
   ]
  },
  {
   "cell_type": "code",
   "execution_count": 12,
   "id": "3fced2c2",
   "metadata": {},
   "outputs": [],
   "source": [
    "ft_benign, ft_malicious = generator.statistics_feature_selection(x_train, y_train, feature_names)"
   ]
  },
  {
   "cell_type": "code",
   "execution_count": null,
   "id": "e4de5260",
   "metadata": {},
   "outputs": [],
   "source": []
  },
  {
   "cell_type": "markdown",
   "id": "95b10734",
   "metadata": {},
   "source": [
    "# Problem Space patching"
   ]
  },
  {
   "cell_type": "code",
   "execution_count": 13,
   "id": "1e18fb19",
   "metadata": {},
   "outputs": [],
   "source": [
    "import apk_generator as patcher"
   ]
  },
  {
   "cell_type": "code",
   "execution_count": 14,
   "id": "8a1e4614",
   "metadata": {},
   "outputs": [
    {
     "name": "stderr",
     "output_type": "stream",
     "text": [
      "15/01/2022 14:02:45> [INFO][tool.Apktool][decode()] Running decode command \"/usr/bin/apktool --frame-path /tmp d --force dataset/be837406e861488e43d0a374982066517c3c08cf549b2f9a1ffe252ccdf3a29b -o /tmp/be837406e861488e43d0a374982066517c3c08cf549b2f9a1ffe252ccdf3a29b\"\n",
      "15/01/2022 14:02:47> [INFO][patchers.string_packer.patcher.StringPatcher][patch()] Running \"StringPatcher\" patcher\n",
      "15/01/2022 14:02:47> [INFO][patchers.rebuild.rebuild.Rebuild][patch()] Running \"Rebuild\" patcher\n",
      "15/01/2022 14:02:47> [INFO][tool.Apktool][build()] Running build command \"/usr/bin/apktool --frame-path /tmp b --force-all /tmp/be837406e861488e43d0a374982066517c3c08cf549b2f9a1ffe252ccdf3a29b -o ./be837406e861488e43d0a374982066517c3c08cf549b2f9a1ffe252ccdf3a29b.pack.apk\"\n"
     ]
    }
   ],
   "source": [
    "patcher.perform_patching('dataset/be837406e861488e43d0a374982066517c3c08cf549b2f9a1ffe252ccdf3a29b', 'amm_patch.json', '/tmp', './be837406e861488e43d0a374982066517c3c08cf549b2f9a1ffe252ccdf3a29b.pack.apk')"
   ]
  },
  {
   "cell_type": "code",
   "execution_count": null,
   "id": "7ebb4298",
   "metadata": {},
   "outputs": [],
   "source": []
  },
  {
   "cell_type": "code",
   "execution_count": null,
   "id": "ebc69bfe",
   "metadata": {},
   "outputs": [],
   "source": []
  }
 ],
 "metadata": {
  "kernelspec": {
   "display_name": "Python 3 (ipykernel)",
   "language": "python",
   "name": "python3"
  },
  "language_info": {
   "codemirror_mode": {
    "name": "ipython",
    "version": 3
   },
   "file_extension": ".py",
   "mimetype": "text/x-python",
   "name": "python",
   "nbconvert_exporter": "python",
   "pygments_lexer": "ipython3",
   "version": "3.9.9"
  }
 },
 "nbformat": 4,
 "nbformat_minor": 5
}
